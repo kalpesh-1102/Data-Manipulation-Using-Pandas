{
 "cells": [
  {
   "cell_type": "code",
   "execution_count": 4,
   "metadata": {},
   "outputs": [
    {
     "name": "stdout",
     "output_type": "stream",
     "text": [
      "    Fruit  Price  Quantity\n",
      "0   mango    100        15\n",
      "1   apple    150        10\n",
      "2  banana     50        10\n",
      "3  papaya     35         3 \n",
      "\n",
      "    Fruit  Price  Quantity\n",
      "0   mango    120        10\n",
      "1   apple    175        15\n",
      "2  banana     30         5\n",
      "3  papaya     35         3\n"
     ]
    }
   ],
   "source": [
    "import pandas as pd\n",
    "\n",
    "dict = {\"Fruit\":[\"mango\",\"apple\",\"banana\",\"papaya\"],\n",
    "        \"Price\":[100,150,50,35],\n",
    "        \"Quantity\":[15,10,10,3]}\n",
    "\n",
    "df1 = pd.DataFrame(dict)\n",
    "print(df1,\"\\n\")\n",
    "\n",
    "df2 = df1.copy()\n",
    "\n",
    "df2.loc[0,\"Price\"] = 120\n",
    "df2.loc[1,\"Price\"] = 175\n",
    "df2.loc[2,\"Price\"] = 30\n",
    "df2.loc[0,\"Quantity\"] = 10\n",
    "df2.loc[1,\"Quantity\"] = 15\n",
    "df2.loc[2,\"Quantity\"] = 5\n",
    "\n",
    "print(df2)"
   ]
  },
  {
   "cell_type": "code",
   "execution_count": 5,
   "metadata": {},
   "outputs": [
    {
     "name": "stdout",
     "output_type": "stream",
     "text": [
      "   Price        Quantity      \n",
      "    self  other     self other\n",
      "0  100.0  120.0     15.0  10.0\n",
      "1  150.0  175.0     10.0  15.0\n",
      "2   50.0   30.0     10.0   5.0\n"
     ]
    }
   ],
   "source": [
    "# comparing both the tables\n",
    "print(df1.compare(df2))"
   ]
  },
  {
   "cell_type": "code",
   "execution_count": 6,
   "metadata": {},
   "outputs": [
    {
     "name": "stdout",
     "output_type": "stream",
     "text": [
      "         Price  Quantity\n",
      "0 self   100.0      15.0\n",
      "  other  120.0      10.0\n",
      "1 self   150.0      10.0\n",
      "  other  175.0      15.0\n",
      "2 self    50.0      10.0\n",
      "  other   30.0       5.0\n"
     ]
    }
   ],
   "source": [
    "# comparing axis wise, default axis is 1\n",
    "print(df1.compare(df2,align_axis=0))\n"
   ]
  }
 ],
 "metadata": {
  "kernelspec": {
   "display_name": "Python 3",
   "language": "python",
   "name": "python3"
  },
  "language_info": {
   "codemirror_mode": {
    "name": "ipython",
    "version": 3
   },
   "file_extension": ".py",
   "mimetype": "text/x-python",
   "name": "python",
   "nbconvert_exporter": "python",
   "pygments_lexer": "ipython3",
   "version": "3.12.2"
  }
 },
 "nbformat": 4,
 "nbformat_minor": 2
}
