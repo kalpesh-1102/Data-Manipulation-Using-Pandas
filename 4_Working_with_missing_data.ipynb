{
 "cells": [
  {
   "cell_type": "code",
   "execution_count": 12,
   "metadata": {},
   "outputs": [
    {
     "name": "stdout",
     "output_type": "stream",
     "text": [
      "EEID             0\n",
      "Full Name        0\n",
      "Job Title        0\n",
      "Department       0\n",
      "Business Unit    0\n",
      "Gender           0\n",
      "Ethnicity        0\n",
      "Age              0\n",
      "Hire Date        0\n",
      "Annual Salary    0\n",
      "dtype: int64\n"
     ]
    }
   ],
   "source": [
    "import pandas as pd \n",
    "\n",
    "data = pd.read_excel(\"Employee Sample Data.xlsx\")\n",
    "\n",
    "print(data.isnull().sum().head(10))\n"
   ]
  },
  {
   "cell_type": "code",
   "execution_count": null,
   "metadata": {},
   "outputs": [],
   "source": [
    "# droping the null values\n",
    "print(data.dropna())"
   ]
  },
  {
   "cell_type": "code",
   "execution_count": 17,
   "metadata": {},
   "outputs": [
    {
     "name": "stdout",
     "output_type": "stream",
     "text": [
      "       EEID        Full Name                 Job Title  Department  \\\n",
      "0    E02387      Emily Davis                Sr. Manger          IT   \n",
      "1    E04105    Theodore Dinh       Technical Architect          IT   \n",
      "2    E02572     Luna Sanders                  Director     Finance   \n",
      "3    E02832  Penelope Jordan  Computer Systems Manager          IT   \n",
      "4    E01639        Austin Vo               Sr. Analyst     Finance   \n",
      "..      ...              ...                       ...         ...   \n",
      "995  E03094     Wesley Young               Sr. Analyst   Marketing   \n",
      "996  E01909     Lillian Khan                   Analyst     Finance   \n",
      "997  E04398      Oliver Yang                  Director   Marketing   \n",
      "998  E02521      Lily Nguyen               Sr. Analyst     Finance   \n",
      "999  E03545      Sofia Cheng            Vice President  Accounting   \n",
      "\n",
      "              Business Unit  Gender  Ethnicity  Age  Hire Date  Annual Salary  \\\n",
      "0    Research & Development  Female      Black   55 2016-04-08         141604   \n",
      "1             Manufacturing    Male      Asian   59 1997-11-29          99975   \n",
      "2       Speciality Products  Female  Caucasian   50 2006-10-26         163099   \n",
      "3             Manufacturing  Female  Caucasian   26 2019-09-27          84913   \n",
      "4             Manufacturing    Male      Asian   55 1995-11-20          95409   \n",
      "..                      ...     ...        ...  ...        ...            ...   \n",
      "995     Speciality Products    Male  Caucasian   33 2016-09-18          98427   \n",
      "996     Speciality Products  Female      Asian   44 2010-05-31          47387   \n",
      "997     Speciality Products    Male      Asian   31 2019-06-10         176710   \n",
      "998     Speciality Products  Female      Asian   33 2012-01-28          95960   \n",
      "999               Corporate  Female      Asian   63 2020-07-26         216195   \n",
      "\n",
      "     Bonus %        Country       City            Exit Date  \n",
      "0       0.15  United States    Seattle  2021-10-16 00:00:00  \n",
      "1       0.00          China  Chongqing                   hi  \n",
      "2       0.20  United States    Chicago                   hi  \n",
      "3       0.07  United States    Chicago                   hi  \n",
      "4       0.00  United States    Phoenix                   hi  \n",
      "..       ...            ...        ...                  ...  \n",
      "995     0.00  United States   Columbus                   hi  \n",
      "996     0.00          China    Chengdu  2018-01-08 00:00:00  \n",
      "997     0.15  United States      Miami                   hi  \n",
      "998     0.00          China    Chengdu                   hi  \n",
      "999     0.31  United States      Miami                   hi  \n",
      "\n",
      "[1000 rows x 14 columns]\n"
     ]
    },
    {
     "name": "stderr",
     "output_type": "stream",
     "text": [
      "C:\\Users\\Kalpesh Pathade\\AppData\\Local\\Temp\\ipykernel_13400\\2336024005.py:8: FutureWarning: Series.replace without 'value' and with non-dict-like 'to_replace' is deprecated and will raise in a future version. Explicitly specify the new values instead.\n",
      "  data[\"Annual Salary\"] = data[\"Annual Salary\"].replace(\"3000000\")\n"
     ]
    }
   ],
   "source": [
    "# replacing the null values\n",
    "# in numpy the null values are nan values i.e not a number value\n",
    "\n",
    "import numpy as np\n",
    "print(data.replace(np.nan,\"hi\"))  # this will replace all the nulls in every column withs hi \n",
    "\n",
    "# we can specifically replace the null values of a column\n",
    "data[\"Annual Salary\"] = data[\"Annual Salary\"].replace(\"3000000\") # this will replace the null values from salary to 300000"
   ]
  },
  {
   "cell_type": "code",
   "execution_count": null,
   "metadata": {},
   "outputs": [],
   "source": [
    "# fillna - to fill the values with the upper values or lower values \n",
    "print(data.fillna(method= \"bfill\")) # this is backward fill, it wil fill the null values with the below values\n",
    "print(data.fillna(method= \"ffill\")) # this will fill the null the values the above values\n"
   ]
  }
 ],
 "metadata": {
  "kernelspec": {
   "display_name": "Python 3",
   "language": "python",
   "name": "python3"
  },
  "language_info": {
   "codemirror_mode": {
    "name": "ipython",
    "version": 3
   },
   "file_extension": ".py",
   "mimetype": "text/x-python",
   "name": "python",
   "nbconvert_exporter": "python",
   "pygments_lexer": "ipython3",
   "version": "3.12.2"
  }
 },
 "nbformat": 4,
 "nbformat_minor": 2
}
