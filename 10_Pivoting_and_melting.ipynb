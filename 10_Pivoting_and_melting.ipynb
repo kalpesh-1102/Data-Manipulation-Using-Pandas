{
 "cells": [
  {
   "cell_type": "code",
   "execution_count": 8,
   "metadata": {},
   "outputs": [
    {
     "name": "stdout",
     "output_type": "stream",
     "text": [
      "  keys  names houses\n",
      "0   k1   John    red\n",
      "1   k2    Ben   blue\n",
      "2   k1  David  green\n",
      "3   k2  Peter    red\n"
     ]
    }
   ],
   "source": [
    "import pandas as pd\n",
    "\n",
    "dict = {\"keys\":[\"k1\",\"k2\",\"k1\",\"k2\"],\n",
    "        \"names\":[\"John\",\"Ben\",\"David\",\"Peter\"],\n",
    "        \"houses\":[\"red\",\"blue\",\"green\",\"red\"]}\n",
    "\n",
    "df = pd.DataFrame(dict)\n",
    "print(df)"
   ]
  },
  {
   "cell_type": "code",
   "execution_count": 10,
   "metadata": {},
   "outputs": [
    {
     "name": "stdout",
     "output_type": "stream",
     "text": [
      "names   Ben  David John Peter\n",
      "keys                         \n",
      "k1      NaN  green  red   NaN\n",
      "k2     blue    NaN  NaN   red\n"
     ]
    }
   ],
   "source": [
    "# pivoting\n",
    "print(df.pivot(index =\"keys\", columns=\"names\", values=\"houses\"))"
   ]
  }
 ],
 "metadata": {
  "kernelspec": {
   "display_name": "Python 3",
   "language": "python",
   "name": "python3"
  },
  "language_info": {
   "codemirror_mode": {
    "name": "ipython",
    "version": 3
   },
   "file_extension": ".py",
   "mimetype": "text/x-python",
   "name": "python",
   "nbconvert_exporter": "python",
   "pygments_lexer": "ipython3",
   "version": "3.12.2"
  }
 },
 "nbformat": 4,
 "nbformat_minor": 2
}
