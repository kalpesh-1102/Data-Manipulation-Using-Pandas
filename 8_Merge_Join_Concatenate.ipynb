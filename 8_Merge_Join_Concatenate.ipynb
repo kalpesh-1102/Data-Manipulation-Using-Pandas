{
 "cells": [
  {
   "cell_type": "code",
   "execution_count": 8,
   "metadata": {},
   "outputs": [
    {
     "name": "stdout",
     "output_type": "stream",
     "text": [
      "  Emp Id   Names  Age\n",
      "0    E01     Ram   34\n",
      "1    E02    Sham   56\n",
      "2    E03   Rahul   34\n",
      "3    E04  Vishal   43\n",
      "4    E05    Ravi   28\n",
      "5    E06   Rohit   30\n",
      "\n",
      "  Emp Id  Salary\n",
      "0    E01   45000\n",
      "1    E07   35000\n",
      "2    E03   50000\n",
      "3    E04   34000\n",
      "4    E08   50000\n",
      "5    E06   62000\n"
     ]
    }
   ],
   "source": [
    "import pandas as pd\n",
    "\n",
    "data1 = {\"Emp Id\":[\"E01\",\"E02\",\"E03\",\"E04\",\"E05\",\"E06\"],\n",
    "         \"Names\":[\"Ram\",\"Sham\",\"Rahul\",\"Vishal\",\"Ravi\",\"Rohit\"],\n",
    "         \"Age\":[34,56,34,43,28,30]}\n",
    "\n",
    "data2 = {\"Emp Id\":[\"E01\",\"E07\",\"E03\",\"E04\",\"E08\",\"E06\"],\n",
    "        \"Salary\":[45000,35000,50000,34000,50000,62000]}\n",
    "\n",
    "df1 = pd.DataFrame(data1)\n",
    "df2 = pd.DataFrame(data2)\n",
    "\n",
    "print(df1)\n",
    "print()\n",
    "print(df2)"
   ]
  },
  {
   "cell_type": "code",
   "execution_count": 6,
   "metadata": {},
   "outputs": [
    {
     "name": "stdout",
     "output_type": "stream",
     "text": [
      "  Emp Id   Names  Age  Salary\n",
      "0    E01     Ram   34   45000\n",
      "1    E02    Sham   56   35000\n",
      "2    E03   Rahul   34   50000\n",
      "3    E04  Vishal   43   34000\n",
      "4    E05    Ravi   28   50000\n",
      "5    E06   Rohit   30   62000\n"
     ]
    }
   ],
   "source": [
    "# merging both the dataframes on the basis of common colonm\n",
    "print(pd.merge(df1,df2,on = \"Emp Id\"))"
   ]
  },
  {
   "cell_type": "code",
   "execution_count": 11,
   "metadata": {},
   "outputs": [
    {
     "name": "stdout",
     "output_type": "stream",
     "text": [
      "  Emp Id   Names  Age   Salary\n",
      "0    E01     Ram   34  45000.0\n",
      "1    E02    Sham   56      NaN\n",
      "2    E03   Rahul   34  50000.0\n",
      "3    E04  Vishal   43  34000.0\n",
      "4    E05    Ravi   28      NaN\n",
      "5    E06   Rohit   30  62000.0\n"
     ]
    }
   ],
   "source": [
    "# if cells have null values\n",
    "# merging the table on the basis of left join\n",
    "print(pd.merge(df1,df2,on = \"Emp Id\", how= \"left\"))\n",
    "\n"
   ]
  },
  {
   "cell_type": "code",
   "execution_count": 12,
   "metadata": {},
   "outputs": [
    {
     "name": "stdout",
     "output_type": "stream",
     "text": [
      "  Emp Id   Names   Age  Salary\n",
      "0    E01     Ram  34.0   45000\n",
      "1    E07     NaN   NaN   35000\n",
      "2    E03   Rahul  34.0   50000\n",
      "3    E04  Vishal  43.0   34000\n",
      "4    E08     NaN   NaN   50000\n",
      "5    E06   Rohit  30.0   62000\n"
     ]
    }
   ],
   "source": [
    "# another way to write \n",
    "print(pd.merge(left=df1,right=df2, on= \"Emp Id\", how=\"right\"))"
   ]
  },
  {
   "cell_type": "code",
   "execution_count": 19,
   "metadata": {},
   "outputs": [
    {
     "name": "stdout",
     "output_type": "stream",
     "text": [
      "  Emp Id   Names  Age\n",
      "0    E01     Ram   34\n",
      "1    E02    Sham   56\n",
      "2    E03   Rahul   34\n",
      "3    E04  Vishal   43\n",
      "4    E05    Ravi   28\n",
      "5    E06   Rohit   30\n",
      "0    E07    Sonu   34\n",
      "1    E08    Monu   56\n",
      "2    E09   bittu   34\n",
      "3    E10  chintu   43\n",
      "4    E11   bunty   28\n",
      "5    E12   sunny   30\n"
     ]
    }
   ],
   "source": [
    "# Concatenate\n",
    "# to concatenate both the dataframes should be similar and have simlar datatypes\n",
    "import pandas as pd\n",
    "\n",
    "data1 = {\"Emp Id\":[\"E01\",\"E02\",\"E03\",\"E04\",\"E05\",\"E06\"],\n",
    "         \"Names\":[\"Ram\",\"Sham\",\"Rahul\",\"Vishal\",\"Ravi\",\"Rohit\"],\n",
    "         \"Age\":[34,56,34,43,28,30]}\n",
    "\n",
    "data2 = {\"Emp Id\":[\"E07\",\"E08\",\"E09\",\"E10\",\"E11\",\"E12\"],\n",
    "         \"Names\":[\"Sonu\",\"Monu\",\"bittu\",\"chintu\",\"bunty\",\"sunny\"],\n",
    "         \"Age\":[34,56,34,43,28,30]}\n",
    "\n",
    "\n",
    "\n",
    "df1 = pd.DataFrame(data1)\n",
    "df2 = pd.DataFrame(data2)\n",
    "\n",
    "print(pd.concat([df1,df2]))"
   ]
  }
 ],
 "metadata": {
  "kernelspec": {
   "display_name": "Python 3",
   "language": "python",
   "name": "python3"
  },
  "language_info": {
   "codemirror_mode": {
    "name": "ipython",
    "version": 3
   },
   "file_extension": ".py",
   "mimetype": "text/x-python",
   "name": "python",
   "nbconvert_exporter": "python",
   "pygments_lexer": "ipython3",
   "version": "3.12.2"
  }
 },
 "nbformat": 4,
 "nbformat_minor": 2
}
