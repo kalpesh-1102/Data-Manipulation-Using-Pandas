{
 "cells": [
  {
   "cell_type": "code",
   "execution_count": 6,
   "metadata": {},
   "outputs": [
    {
     "name": "stdout",
     "output_type": "stream",
     "text": [
      "  First name  Last name  Salary EEID\n",
      "0       ross  tribbiani   20000   E1\n",
      "1     rachel       bing   35000   E2\n",
      "2     monica     greeen   50000   E3\n",
      "3        joy     geller   33000   E4\n",
      "4   chandlar     buffay   23000   E5\n",
      "5     phoebe       bing   45000   E6 \n",
      "\n",
      "  First name  Last name  Salary EEID    Bonus\n",
      "0       ross  tribbiani   20000   E1   4000.0\n",
      "1     rachel       bing   35000   E2   7000.0\n",
      "2     monica     greeen   50000   E3  10000.0\n",
      "3        joy     geller   33000   E4   6600.0\n",
      "4   chandlar     buffay   23000   E5   4600.0\n",
      "5     phoebe       bing   45000   E6   9000.0\n"
     ]
    }
   ],
   "source": [
    "import pandas as pd\n",
    "\n",
    "data = pd.read_excel(\"Practice_pd_1.xlsx\")\n",
    "print(data, \"\\n\")\n",
    "\n",
    "data[\"Bonus\"] = (data[\"Salary\"]/100)*20\n",
    "print(data)"
   ]
  },
  {
   "cell_type": "code",
   "execution_count": 13,
   "metadata": {},
   "outputs": [
    {
     "name": "stdout",
     "output_type": "stream",
     "text": [
      "     Months\n",
      "0   January\n",
      "1  February\n",
      "2     March\n",
      "3     April\n",
      "     Months Short Month\n",
      "0   January         Jan\n",
      "1  February         Feb\n",
      "2     March         Mar\n",
      "3     April         Apr\n"
     ]
    }
   ],
   "source": [
    "data = {\"Months\" : [\"January\", \"February\", \"March\", \"April\"]}\n",
    "\n",
    "# creating dataframe\n",
    "a = pd.DataFrame(data)\n",
    "print(a)\n",
    "\n",
    "def extract(values):\n",
    "    return(values[0:3])\n",
    "\n",
    "a[\"Short Month\"] = a[\"Months\"].map(extract)\n",
    "print(a)\n"
   ]
  }
 ],
 "metadata": {
  "kernelspec": {
   "display_name": "Python 3",
   "language": "python",
   "name": "python3"
  },
  "language_info": {
   "codemirror_mode": {
    "name": "ipython",
    "version": 3
   },
   "file_extension": ".py",
   "mimetype": "text/x-python",
   "name": "python",
   "nbconvert_exporter": "python",
   "pygments_lexer": "ipython3",
   "version": "3.12.2"
  }
 },
 "nbformat": 4,
 "nbformat_minor": 2
}
