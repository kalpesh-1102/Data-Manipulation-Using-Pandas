{
 "cells": [
  {
   "cell_type": "code",
   "execution_count": 5,
   "metadata": {},
   "outputs": [
    {
     "name": "stdout",
     "output_type": "stream",
     "text": [
      "     EEID        Full Name                 Job Title Department  \\\n",
      "0  E02387      Emily Davis                Sr. Manger         IT   \n",
      "1  E04105    Theodore Dinh       Technical Architect         IT   \n",
      "2  E02572     Luna Sanders                  Director    Finance   \n",
      "3  E02832  Penelope Jordan  Computer Systems Manager         IT   \n",
      "4  E01639        Austin Vo               Sr. Analyst    Finance   \n",
      "\n",
      "            Business Unit  Gender  Ethnicity  Age  Hire Date  Annual Salary  \\\n",
      "0  Research & Development  Female      Black   55 2016-04-08         141604   \n",
      "1           Manufacturing    Male      Asian   59 1997-11-29          99975   \n",
      "2     Speciality Products  Female  Caucasian   50 2006-10-26         163099   \n",
      "3           Manufacturing  Female  Caucasian   26 2019-09-27          84913   \n",
      "4           Manufacturing    Male      Asian   55 1995-11-20          95409   \n",
      "\n",
      "   Bonus %        Country       City  Exit Date  Getbonus  \n",
      "0     0.15  United States    Seattle 2021-10-16     bonus  \n",
      "1     0.00          China  Chongqing        NaT  no bonus  \n",
      "2     0.20  United States    Chicago        NaT     bonus  \n",
      "3     0.07  United States    Chicago        NaT     bonus  \n",
      "4     0.00  United States    Phoenix        NaT  no bonus  \n"
     ]
    }
   ],
   "source": [
    "import pandas as pd\n",
    "\n",
    "data = pd.read_excel(\"Employee Sample Data.xlsx\")\n",
    "# print(data)\n",
    "\n",
    "# checking who did not get the bonus and creating a colonm\n",
    "data.loc[(data[\"Bonus %\"] == 0), \"Getbonus\"] = \"no bonus\"\n",
    "data.loc[data[\"Bonus %\"] > 0, \"Getbonus\"] = \"bonus\"\n",
    "\n",
    "print(data.head(5))"
   ]
  },
  {
   "cell_type": "code",
   "execution_count": 10,
   "metadata": {},
   "outputs": [
    {
     "name": "stdout",
     "output_type": "stream",
     "text": [
      "  First name  Last name  Salary EEID\n",
      "0       ross  tribbiani   20000   E1\n",
      "1     rachel       bing   35000   E2\n",
      "2     monica     greeen   50000   E3\n",
      "3        joy     geller   33000   E4\n",
      "4   chandlar     buffay   23000   E5\n",
      "5     phoebe       bing   45000   E6\n",
      "  First name  Last name  Salary EEID        Full name\n",
      "0       ross  tribbiani   20000   E1   ROSS TRIBBIANI\n",
      "1     rachel       bing   35000   E2      RACHEL BING\n",
      "2     monica     greeen   50000   E3    MONICA GREEEN\n",
      "3        joy     geller   33000   E4       JOY GELLER\n",
      "4   chandlar     buffay   23000   E5  CHANDLAR BUFFAY\n",
      "5     phoebe       bing   45000   E6      PHOEBE BING\n"
     ]
    }
   ],
   "source": [
    "data = pd.read_excel(\"Practice_pd_1.xlsx\")\n",
    "print(data)\n",
    "\n",
    "# printing a colomn with full name\n",
    "data[\"Full name\"] = data[\"First name\"] +\" \"+ data[\"Last name\"]\n",
    "\n",
    "# converting it to upper case \n",
    "data[\"Full name\"] = data[\"First name\"].str.upper() +\" \"+ data[\"Last name\"].str.upper()\n",
    "\n",
    "print(data)"
   ]
  }
 ],
 "metadata": {
  "kernelspec": {
   "display_name": "Python 3",
   "language": "python",
   "name": "python3"
  },
  "language_info": {
   "codemirror_mode": {
    "name": "ipython",
    "version": 3
   },
   "file_extension": ".py",
   "mimetype": "text/x-python",
   "name": "python",
   "nbconvert_exporter": "python",
   "pygments_lexer": "ipython3",
   "version": "3.12.2"
  }
 },
 "nbformat": 4,
 "nbformat_minor": 2
}
